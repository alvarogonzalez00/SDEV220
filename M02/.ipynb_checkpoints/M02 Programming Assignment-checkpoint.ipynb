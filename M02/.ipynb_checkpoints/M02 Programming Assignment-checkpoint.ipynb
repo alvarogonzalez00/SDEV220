{
 "cells": [
  {
   "cell_type": "markdown",
   "id": "92810278-a350-4520-91ad-2d54210a7f3d",
   "metadata": {},
   "source": [
    "4.1"
   ]
  },
  {
   "cell_type": "code",
   "execution_count": 5,
   "id": "e0f8d938-ec3d-42ab-9175-8f4a43019dba",
   "metadata": {},
   "outputs": [
    {
     "name": "stdin",
     "output_type": "stream",
     "text": [
      "Guess a number between 1-10:\n",
      " 5\n"
     ]
    },
    {
     "name": "stdout",
     "output_type": "stream",
     "text": [
      "too low\n",
      "the number was 8\n"
     ]
    }
   ],
   "source": [
    "import random\n",
    "secret = random.randrange(0,11)\n",
    "userGuess = int(input(\"Guess a number between 1-10:\\n\"))\n",
    "\n",
    "if userGuess > secret:\n",
    "    print(\"too high\")\n",
    "elif userGuess < secret:\n",
    "    print(\"too low\")\n",
    "else:\n",
    "    print(\"just right\")\n",
    "\n",
    "print(\"the number was\", secret)"
   ]
  },
  {
   "cell_type": "markdown",
   "id": "7aac8000-3512-4930-b1b4-bf192e20c07e",
   "metadata": {},
   "source": [
    "4.2 "
   ]
  },
  {
   "cell_type": "code",
   "execution_count": 7,
   "id": "bb596df6-80ec-4f90-b9ac-9fde97099ef5",
   "metadata": {},
   "outputs": [
    {
     "name": "stdout",
     "output_type": "stream",
     "text": [
      "it's a pumpkin\n"
     ]
    }
   ],
   "source": [
    "small = False\n",
    "green = False\n",
    "\n",
    "if small & green:\n",
    "    print(\"it's a pea\")\n",
    "    \n",
    "elif small :\n",
    "    print(\"it's a cherry\")\n",
    "\n",
    "elif green:\n",
    "    print(\"it's a watermelon\")\n",
    "\n",
    "else:\n",
    "    print(\"it's a pumpkin\")"
   ]
  },
  {
   "cell_type": "markdown",
   "id": "e9e2f40b-95fa-4a43-b806-98334e39e43f",
   "metadata": {},
   "source": [
    "6.1"
   ]
  },
  {
   "cell_type": "code",
   "execution_count": 8,
   "id": "a1a28911-b89e-44de-93e6-416565e0259d",
   "metadata": {},
   "outputs": [
    {
     "name": "stdout",
     "output_type": "stream",
     "text": [
      "3\n",
      "2\n",
      "1\n",
      "0\n"
     ]
    }
   ],
   "source": [
    "\n",
    "numbers = [3,2,1,0]\n",
    "\n",
    "for number in numbers:\n",
    "    print(number)"
   ]
  },
  {
   "cell_type": "raw",
   "id": "8c783905-ddac-43c4-8d95-61fd3331472f",
   "metadata": {},
   "source": [
    "6.2"
   ]
  },
  {
   "cell_type": "code",
   "execution_count": null,
   "id": "cd6eb5f4-08e9-4fcb-b6bd-bcaa1f046f5f",
   "metadata": {},
   "outputs": [],
   "source": [
    "6.3"
   ]
  },
  {
   "cell_type": "code",
   "execution_count": 12,
   "id": "e4a205a4-2a24-4629-a0ee-8b34b3431d28",
   "metadata": {},
   "outputs": [
    {
     "ename": "TypeError",
     "evalue": "'int' object is not iterable",
     "output_type": "error",
     "traceback": [
      "\u001b[0;31m---------------------------------------------------------------------------\u001b[0m",
      "\u001b[0;31mTypeError\u001b[0m                                 Traceback (most recent call last)",
      "Cell \u001b[0;32mIn[12], line 5\u001b[0m\n\u001b[1;32m      1\u001b[0m guess_me \u001b[38;5;241m=\u001b[39m \u001b[38;5;241m7\u001b[39m\n\u001b[1;32m      3\u001b[0m numbers \u001b[38;5;241m=\u001b[39m \u001b[38;5;241m1\u001b[39m\n\u001b[0;32m----> 5\u001b[0m \u001b[38;5;28;01mfor\u001b[39;00m num \u001b[38;5;129;01min\u001b[39;00m numbers:\n\u001b[1;32m      6\u001b[0m     \u001b[38;5;28mprint\u001b[39m(\u001b[38;5;124m\"\u001b[39m\u001b[38;5;124myou guessed: \u001b[39m\u001b[38;5;124m\"\u001b[39m, num)\n\u001b[1;32m      7\u001b[0m     \u001b[38;5;28;01mif\u001b[39;00m num \u001b[38;5;241m<\u001b[39m guess_me:\n",
      "\u001b[0;31mTypeError\u001b[0m: 'int' object is not iterable"
     ]
    }
   ],
   "source": [
    "guess_me = 7\n",
    "\n",
    "number = 1\n",
    "\n",
    "while True:\n",
    "    if number < guess_me:\n",
    "        print('too low')\n",
    "    elif number == guess_me:\n",
    "        print('found it!')\n",
    "        break\n",
    "    elif number > guess_me:\n",
    "        print('oops')\n",
    "        break\n",
    "        \n",
    "    number += 1"
   ]
  },
  {
   "cell_type": "code",
   "execution_count": 11,
   "id": "80c8deb0-4c99-4634-ab67-721f8923807c",
   "metadata": {},
   "outputs": [
    {
     "name": "stdout",
     "output_type": "stream",
     "text": [
      "you guessed:  0\n",
      "too low\n",
      "you guessed:  1\n",
      "too low\n",
      "you guessed:  2\n",
      "too low\n",
      "you guessed:  3\n",
      "too low\n",
      "you guessed:  4\n",
      "too low\n",
      "you guessed:  5\n",
      "found it!\n"
     ]
    }
   ],
   "source": [
    "guess_me = 5\n",
    "\n",
    "numbers = range(10)\n",
    "\n",
    "for num in numbers:\n",
    "    print(\"you guessed: \", num)\n",
    "    if num < guess_me:\n",
    "        print(\"too low\")\n",
    "    elif num > guess_me:\n",
    "        print(\"oops\")\n",
    "        break\n",
    "    else:\n",
    "        print(\"found it!\")\n",
    "        break"
   ]
  },
  {
   "cell_type": "code",
   "execution_count": null,
   "id": "c442ec08-a933-4a9d-a176-daa7b924690c",
   "metadata": {},
   "outputs": [],
   "source": []
  }
 ],
 "metadata": {
  "kernelspec": {
   "display_name": "Python 3 (ipykernel)",
   "language": "python",
   "name": "python3"
  },
  "language_info": {
   "codemirror_mode": {
    "name": "ipython",
    "version": 3
   },
   "file_extension": ".py",
   "mimetype": "text/x-python",
   "name": "python",
   "nbconvert_exporter": "python",
   "pygments_lexer": "ipython3",
   "version": "3.11.7"
  }
 },
 "nbformat": 4,
 "nbformat_minor": 5
}
