{
 "cells": [
  {
   "cell_type": "code",
   "execution_count": 1,
   "id": "9d6fefc6-c95a-48c7-9664-1c7420e267d0",
   "metadata": {},
   "outputs": [
    {
     "name": "stdout",
     "output_type": "stream",
     "text": [
      "First Python Program\n"
     ]
    }
   ],
   "source": [
    "print(\"First Python Program\")"
   ]
  },
  {
   "cell_type": "code",
   "execution_count": 2,
   "id": "da92cc84-68fb-4e1b-b74f-ec106d0b05b0",
   "metadata": {},
   "outputs": [
    {
     "name": "stdout",
     "output_type": "stream",
     "text": [
      "Sum =  15\n"
     ]
    }
   ],
   "source": [
    "a = 5\n",
    "b = 10\n",
    "c = a + b\n",
    "print(\"Sum = \", c)"
   ]
  },
  {
   "cell_type": "code",
   "execution_count": null,
   "id": "ef1c8895-7c2b-4efc-b9cd-7ced55116554",
   "metadata": {},
   "outputs": [],
   "source": []
  }
 ],
 "metadata": {
  "kernelspec": {
   "display_name": "Python 3 (ipykernel)",
   "language": "python",
   "name": "python3"
  },
  "language_info": {
   "codemirror_mode": {
    "name": "ipython",
    "version": 3
   },
   "file_extension": ".py",
   "mimetype": "text/x-python",
   "name": "python",
   "nbconvert_exporter": "python",
   "pygments_lexer": "ipython3",
   "version": "3.11.7"
  }
 },
 "nbformat": 4,
 "nbformat_minor": 5
}
